{
 "cells": [
  {
   "cell_type": "code",
   "execution_count": 15,
   "id": "0c6154b7-7b6b-457d-ade6-53afff0b6d36",
   "metadata": {},
   "outputs": [],
   "source": [
    "#Q1\n",
    "import numpy as np\n",
    "import pandas as pd\n",
    "from sklearn.metrics import r2_score\n",
    "from sklearn.preprocessing import StandardScaler\n",
    "from sklearn.model_selection import train_test_split,KFold"
   ]
  },
  {
   "cell_type": "code",
   "execution_count": 5,
   "id": "6bc2d792-d1ff-482f-bbb8-c6e1214f4fcc",
   "metadata": {},
   "outputs": [
    {
     "data": {
      "text/html": [
       "<div>\n",
       "<style scoped>\n",
       "    .dataframe tbody tr th:only-of-type {\n",
       "        vertical-align: middle;\n",
       "    }\n",
       "\n",
       "    .dataframe tbody tr th {\n",
       "        vertical-align: top;\n",
       "    }\n",
       "\n",
       "    .dataframe thead th {\n",
       "        text-align: right;\n",
       "    }\n",
       "</style>\n",
       "<table border=\"1\" class=\"dataframe\">\n",
       "  <thead>\n",
       "    <tr style=\"text-align: right;\">\n",
       "      <th></th>\n",
       "      <th>Avg. Area Income</th>\n",
       "      <th>Avg. Area House Age</th>\n",
       "      <th>Avg. Area Number of Rooms</th>\n",
       "      <th>Avg. Area Number of Bedrooms</th>\n",
       "      <th>Area Population</th>\n",
       "      <th>Price</th>\n",
       "    </tr>\n",
       "  </thead>\n",
       "  <tbody>\n",
       "    <tr>\n",
       "      <th>0</th>\n",
       "      <td>79545.45857</td>\n",
       "      <td>5.682861</td>\n",
       "      <td>7.009188</td>\n",
       "      <td>4.09</td>\n",
       "      <td>23086.80050</td>\n",
       "      <td>1.059034e+06</td>\n",
       "    </tr>\n",
       "    <tr>\n",
       "      <th>1</th>\n",
       "      <td>79248.64245</td>\n",
       "      <td>6.002900</td>\n",
       "      <td>6.730821</td>\n",
       "      <td>3.09</td>\n",
       "      <td>40173.07217</td>\n",
       "      <td>1.505891e+06</td>\n",
       "    </tr>\n",
       "    <tr>\n",
       "      <th>2</th>\n",
       "      <td>61287.06718</td>\n",
       "      <td>5.865890</td>\n",
       "      <td>8.512727</td>\n",
       "      <td>5.13</td>\n",
       "      <td>36882.15940</td>\n",
       "      <td>1.058988e+06</td>\n",
       "    </tr>\n",
       "    <tr>\n",
       "      <th>3</th>\n",
       "      <td>63345.24005</td>\n",
       "      <td>7.188236</td>\n",
       "      <td>5.586729</td>\n",
       "      <td>3.26</td>\n",
       "      <td>34310.24283</td>\n",
       "      <td>1.260617e+06</td>\n",
       "    </tr>\n",
       "    <tr>\n",
       "      <th>4</th>\n",
       "      <td>59982.19723</td>\n",
       "      <td>5.040555</td>\n",
       "      <td>7.839388</td>\n",
       "      <td>4.23</td>\n",
       "      <td>26354.10947</td>\n",
       "      <td>6.309435e+05</td>\n",
       "    </tr>\n",
       "  </tbody>\n",
       "</table>\n",
       "</div>"
      ],
      "text/plain": [
       "   Avg. Area Income  Avg. Area House Age  Avg. Area Number of Rooms  \\\n",
       "0       79545.45857             5.682861                   7.009188   \n",
       "1       79248.64245             6.002900                   6.730821   \n",
       "2       61287.06718             5.865890                   8.512727   \n",
       "3       63345.24005             7.188236                   5.586729   \n",
       "4       59982.19723             5.040555                   7.839388   \n",
       "\n",
       "   Avg. Area Number of Bedrooms  Area Population         Price  \n",
       "0                          4.09      23086.80050  1.059034e+06  \n",
       "1                          3.09      40173.07217  1.505891e+06  \n",
       "2                          5.13      36882.15940  1.058988e+06  \n",
       "3                          3.26      34310.24283  1.260617e+06  \n",
       "4                          4.23      26354.10947  6.309435e+05  "
      ]
     },
     "execution_count": 5,
     "metadata": {},
     "output_type": "execute_result"
    }
   ],
   "source": [
    "df=pd.read_csv(\"USA_Housing.csv\")\n",
    "df.head()"
   ]
  },
  {
   "cell_type": "code",
   "execution_count": 6,
   "id": "c4394f3f-f0dc-46b0-ad54-317c55444a99",
   "metadata": {},
   "outputs": [],
   "source": [
    "X=df.drop(columns=['Price'])\n",
    "y=df['Price']"
   ]
  },
  {
   "cell_type": "code",
   "execution_count": 8,
   "id": "fdbf3d44-e772-41dd-ab7b-24c3cb5a112d",
   "metadata": {},
   "outputs": [],
   "source": [
    "scaler=StandardScaler()\n",
    "X=scaler.fit_transform(X)"
   ]
  },
  {
   "cell_type": "code",
   "execution_count": 9,
   "id": "2c08a097-c13d-4647-b933-a9dc9465e3b2",
   "metadata": {},
   "outputs": [],
   "source": [
    "def add_bias(X):\n",
    "    return np.hstack((np.ones((X.shape[0], 1)), X))"
   ]
  },
  {
   "cell_type": "code",
   "execution_count": 22,
   "id": "db509045-8b22-44dc-a757-d38c799dabcc",
   "metadata": {},
   "outputs": [],
   "source": [
    "kf = KFold(n_splits=5, shuffle=True, random_state=42)\n",
    "fold=0\n",
    "betas=[]\n",
    "r2_scores=[]"
   ]
  },
  {
   "cell_type": "code",
   "execution_count": 23,
   "id": "af04c8fa-18f0-4230-a7af-bcef639e0b1d",
   "metadata": {},
   "outputs": [
    {
     "name": "stdout",
     "output_type": "stream",
     "text": [
      "Fold 1 --> R2 = 0.9180\n",
      "Fold 2 --> R2 = 0.9146\n",
      "Fold 3 --> R2 = 0.9116\n",
      "Fold 4 --> R2 = 0.9193\n",
      "Fold 5 --> R2 = 0.9244\n",
      "\n",
      "Best Fold: 5\n",
      "Best R2: 0.9243869413350316\n"
     ]
    }
   ],
   "source": [
    "for train_idx,test_idx in kf.split(X):\n",
    "    fold+=1\n",
    "    X_train, X_test = X[train_idx], X[test_idx]\n",
    "    y_train, y_test = y[train_idx], y[test_idx]\n",
    "    X_train_bias = add_bias(X_train)\n",
    "    X_test_bias = add_bias(X_test)\n",
    "    beta = np.linalg.pinv(X_train_bias) @ y_train\n",
    "    betas.append(beta)\n",
    "    y_pred = X_test_bias @ beta\n",
    "    r2 = r2_score(y_test, y_pred)\n",
    "    r2_scores.append(r2)\n",
    "    print(f\"Fold {fold} --> R2 = {r2:.4f}\")\n",
    "best_fold_index = np.argmax(r2_scores)\n",
    "best_beta = betas[best_fold_index]\n",
    "print(\"\\nBest Fold:\", best_fold_index + 1)\n",
    "print(\"Best R2:\", r2_scores[best_fold_index])"
   ]
  },
  {
   "cell_type": "code",
   "execution_count": 18,
   "id": "b61077cb-d5f4-4480-a5ea-4572a1b1c543",
   "metadata": {},
   "outputs": [],
   "source": [
    "X_train, X_test, y_train, y_test = train_test_split(X, y, test_size=0.30, random_state=42)\n",
    "X_train_bias = add_bias(X_train)\n",
    "X_test_bias = add_bias(X_test)"
   ]
  },
  {
   "cell_type": "code",
   "execution_count": 13,
   "id": "5fb408c2-3267-4017-b4e5-d24bbd4727dc",
   "metadata": {},
   "outputs": [],
   "source": [
    "y_pred_best_beta = X_test_bias @ best_beta\n",
    "final_r2 = r2_score(y_test, y_pred_best_beta)"
   ]
  },
  {
   "cell_type": "code",
   "execution_count": 26,
   "id": "84eb8c1c-319c-4ac5-8ad3-80ff1b10d669",
   "metadata": {},
   "outputs": [
    {
     "name": "stdout",
     "output_type": "stream",
     "text": [
      "\n",
      "R2 using best fold beta : 0.9147458156636434\n"
     ]
    }
   ],
   "source": [
    "print(\"\\nR2 using best fold beta :\", final_r2)"
   ]
  },
  {
   "cell_type": "code",
   "execution_count": 27,
   "id": "b3fa8c2b-430a-4227-aee9-b41859f5f1dd",
   "metadata": {},
   "outputs": [],
   "source": [
    "#Q2\n",
    "LEARNING_RATES = [0.001, 0.01, 0.1, 1]"
   ]
  },
  {
   "cell_type": "code",
   "execution_count": 32,
   "id": "b021c2b5-4565-4239-9a39-c3240978c498",
   "metadata": {},
   "outputs": [],
   "source": [
    "def gradient_descent(X_bias, y, lr, n_iter):\n",
    "    y = y.values if isinstance(y, pd.Series) else y  \n",
    "    m, n = X_bias.shape\n",
    "    beta = np.zeros(n)\n",
    "    \n",
    "    for i in range(n_iter):\n",
    "        preds = X_bias @ beta\n",
    "        error = preds - y\n",
    "        grad = (1/m) * (X_bias.T @ error)\n",
    "        beta = beta - lr * grad\n",
    "        \n",
    "    return beta"
   ]
  },
  {
   "cell_type": "code",
   "execution_count": 33,
   "id": "ea3d5203-f2ec-4175-9aa3-050b92830e87",
   "metadata": {},
   "outputs": [],
   "source": [
    "X_rem, X_test, y_rem, y_test = train_test_split(X, y, test_size=0.30, random_state=42)\n",
    "X_train, X_val, y_train, y_val = train_test_split(X_rem, y_rem, test_size=0.20, random_state=42)"
   ]
  },
  {
   "cell_type": "code",
   "execution_count": 34,
   "id": "3b7cbe85-36f3-48e6-ae33-27cce5247860",
   "metadata": {},
   "outputs": [],
   "source": [
    "X_train_bias = add_bias(X_train)\n",
    "X_val_bias   = add_bias(X_val)\n",
    "X_test_bias  = add_bias(X_test)"
   ]
  },
  {
   "cell_type": "code",
   "execution_count": 35,
   "id": "5e07db92-6e80-4885-bdde-4d48ce9dbb23",
   "metadata": {},
   "outputs": [
    {
     "name": "stdout",
     "output_type": "stream",
     "text": [
      "lr=0.001  ->  R2_val = -0.812520 , R2_test = -0.991365\n",
      "lr= 0.01  ->  R2_val = 0.909818 , R2_test = 0.914743\n",
      "lr=  0.1  ->  R2_val = 0.909800 , R2_test = 0.914757\n",
      "lr=    1  ->  R2_val = 0.909800 , R2_test = 0.914757\n"
     ]
    }
   ],
   "source": [
    "results=[]\n",
    "for lr in LEARNING_RATES:\n",
    "    beta = gradient_descent(X_train_bias, y_train, lr, n_iter=1000)\n",
    "    y_val_pred = X_val_bias @ beta\n",
    "    y_test_pred = X_test_bias @ beta\n",
    "    \n",
    "    r2_val = r2_score(y_val, y_val_pred)\n",
    "    r2_test = r2_score(y_test, y_test_pred)\n",
    "    \n",
    "    results.append({\n",
    "        \"lr\": lr,\n",
    "        \"beta\": beta,\n",
    "        \"r2_val\": r2_val,\n",
    "        \"r2_test\": r2_test\n",
    "    })\n",
    "    print(f\"lr={lr:>5}  ->  R2_val = {r2_val:.6f} , R2_test = {r2_test:.6f}\")"
   ]
  },
  {
   "cell_type": "code",
   "execution_count": 37,
   "id": "dbb08de2-a476-47de-81f0-f2ecf303e268",
   "metadata": {},
   "outputs": [
    {
     "name": "stdout",
     "output_type": "stream",
     "text": [
      "\n",
      "Best learning rate (by validation R²): 0.01\n",
      "Validation R²: 0.9098183094422969\n",
      "Test R² for that beta: 0.9147434800538763\n",
      "Beta (first 10 elements shown):\n",
      "[1232562.512549  230048.766647  163686.935036  121406.941079\n",
      "    3117.473639  150655.974597]\n"
     ]
    }
   ],
   "source": [
    "best = max(results, key=lambda x: x[\"r2_val\"])\n",
    "print(\"\\nBest learning rate (by validation R²):\", best[\"lr\"])\n",
    "print(\"Validation R²:\", best[\"r2_val\"])\n",
    "print(\"Test R² for that beta:\", best[\"r2_test\"])\n",
    "print(\"Beta (first 10 elements shown):\")\n",
    "print(np.round(best[\"beta\"].flatten()[:10], 6))"
   ]
  }
 ],
 "metadata": {
  "kernelspec": {
   "display_name": "Python 3 (ipykernel)",
   "language": "python",
   "name": "python3"
  },
  "language_info": {
   "codemirror_mode": {
    "name": "ipython",
    "version": 3
   },
   "file_extension": ".py",
   "mimetype": "text/x-python",
   "name": "python",
   "nbconvert_exporter": "python",
   "pygments_lexer": "ipython3",
   "version": "3.12.7"
  }
 },
 "nbformat": 4,
 "nbformat_minor": 5
}
