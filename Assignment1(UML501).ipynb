{
  "nbformat": 4,
  "nbformat_minor": 0,
  "metadata": {
    "colab": {
      "provenance": []
    },
    "kernelspec": {
      "name": "python3",
      "display_name": "Python 3"
    },
    "language_info": {
      "name": "python"
    }
  },
  "cells": [
    {
      "cell_type": "code",
      "execution_count": 1,
      "metadata": {
        "colab": {
          "base_uri": "https://localhost:8080/"
        },
        "id": "RML-dN_BVnkg",
        "outputId": "3f904e40-6ac3-476a-c450-bd43c7e87c40"
      },
      "outputs": [
        {
          "output_type": "stream",
          "name": "stdout",
          "text": [
            "[6 5 4 3 2 1]\n"
          ]
        }
      ],
      "source": [
        "import numpy as np\n",
        "arr1=np.array([1,2,3,4,5,6])\n",
        "arr1=np.flip(arr1)\n",
        "print(arr1)"
      ]
    },
    {
      "cell_type": "code",
      "source": [
        "arr2=np.array([[1,2,3],[2,4,5],[1,2,3]])\n",
        "arr3=arr2.flatten()\n",
        "arr4=np.ravel(arr2)\n",
        "print(arr3)\n",
        "print(arr4)"
      ],
      "metadata": {
        "colab": {
          "base_uri": "https://localhost:8080/"
        },
        "id": "guTOWs-VV55E",
        "outputId": "a23c470e-3d5d-4254-96b0-9cb75306adf9"
      },
      "execution_count": null,
      "outputs": [
        {
          "output_type": "stream",
          "name": "stdout",
          "text": [
            "[1 2 3 2 4 5 1 2 3]\n",
            "[1 2 3 2 4 5 1 2 3]\n"
          ]
        }
      ]
    },
    {
      "cell_type": "code",
      "source": [
        "a=np.array([[1,2],[3,4]])\n",
        "b=np.array([[1,2],[3,4]])\n",
        "print(a==b)\n",
        "print(np.array_equal(a,b))"
      ],
      "metadata": {
        "colab": {
          "base_uri": "https://localhost:8080/"
        },
        "id": "01xN4IUCWaxM",
        "outputId": "b0d71bed-5af7-485c-8d33-0bd1b20843ef"
      },
      "execution_count": null,
      "outputs": [
        {
          "output_type": "stream",
          "name": "stdout",
          "text": [
            "[[ True  True]\n",
            " [ True  True]]\n",
            "True\n"
          ]
        }
      ]
    },
    {
      "cell_type": "code",
      "source": [
        "x=np.array([1,2,3,4,5,1,2,1,1,1])\n",
        "y=np.array([1,1,1,2,3,4,2,4,3,3])\n",
        "count1=np.bincount(x)\n",
        "max_frequency1=np.argmax(count1)\n",
        "indices1=np.where(x==max_frequency1)\n",
        "print(max_frequency1)\n",
        "print(indices1)\n",
        "count2=np.bincount(y)\n",
        "max_frequency2=np.argmax(count2)\n",
        "indices2=np.where(y==max_frequency2)\n",
        "print(max_frequency2)\n",
        "print(indices2)"
      ],
      "metadata": {
        "colab": {
          "base_uri": "https://localhost:8080/"
        },
        "id": "PWgEjerC8jll",
        "outputId": "1ed3ed7c-9519-4f3e-9081-ae24f9f95985"
      },
      "execution_count": 2,
      "outputs": [
        {
          "output_type": "stream",
          "name": "stdout",
          "text": [
            "1\n",
            "(array([0, 5, 7, 8, 9]),)\n",
            "1\n",
            "(array([0, 1, 2]),)\n"
          ]
        }
      ]
    },
    {
      "cell_type": "code",
      "source": [
        "gfg=np.matrix('[4, 1, 9; 12, 3, 1; 4, 5, 6]')\n",
        "sum_all=np.sum(gfg)\n",
        "print(f'sum of all elements: {sum_all}')\n",
        "sum_rows=np.sum(gfg,axis=1)\n",
        "print(f'sum of rows: {sum_rows}')\n",
        "sum_cols=np.sum(gfg,axis=0)\n",
        "print(f'sum of columns: {sum_cols}')"
      ],
      "metadata": {
        "colab": {
          "base_uri": "https://localhost:8080/"
        },
        "id": "yj4wJH6Hkflt",
        "outputId": "10e0fab5-e629-4af8-c645-6ad6fa525109"
      },
      "execution_count": 3,
      "outputs": [
        {
          "output_type": "stream",
          "name": "stdout",
          "text": [
            "sum of all elements: 45\n",
            "sum of rows: [[14]\n",
            " [16]\n",
            " [15]]\n",
            "sum of columns: [[20  9 16]]\n"
          ]
        }
      ]
    },
    {
      "cell_type": "code",
      "source": [
        "n_array = np.array([[55, 25, 15],[30, 44, 2],[11, 45, 77]])\n",
        "sum_diag=np.trace(n_array)\n",
        "print(f'sum of diaognals: {sum_diag}')\n",
        "eigenvalues,eigenvectors=np.linalg.eig(n_array)\n",
        "print(f'eigenvalues are: {eigenvalues}')\n",
        "print(f'eigenvectors are: {eigenvectors}')\n",
        "inv_n_array=np.linalg.inv(n_array)\n",
        "det_n_array=np.linalg.det(n_array)\n",
        "print(f'inverse: {inv_n_array}')\n",
        "print(f'determinant: {det_n_array}')"
      ],
      "metadata": {
        "colab": {
          "base_uri": "https://localhost:8080/"
        },
        "id": "vn1dedGnlWIF",
        "outputId": "62379254-f4d4-4c08-d266-164f80837223"
      },
      "execution_count": 4,
      "outputs": [
        {
          "output_type": "stream",
          "name": "stdout",
          "text": [
            "sum of diaognals: 176\n",
            "eigenvalues are: [98.16835147 28.097044   49.73460452]\n",
            "eigenvectors are: [[ 0.4574917   0.34637121 -0.15017693]\n",
            " [ 0.28447814 -0.72784061 -0.4852124 ]\n",
            " [ 0.84248058  0.59184038  0.8614034 ]]\n",
            "inverse: [[ 0.02404141 -0.00911212 -0.00444671]\n",
            " [-0.01667882  0.02966905  0.0024785 ]\n",
            " [ 0.00631287 -0.01603732  0.01217379]]\n",
            "determinant: 137180.0000000001\n"
          ]
        }
      ]
    },
    {
      "cell_type": "code",
      "source": [
        "p1 = np.array([[1, 2], [2, 3]])\n",
        "q1 = np.array([[4, 5], [6, 7]])\n",
        "multi1=np.dot(p1,q1)\n",
        "print(f\"multiplication (i): {multi1}\")\n",
        "combined1=np.vstack((p1.flatten(),q1.flatten()))\n",
        "covariance1=np.cov(combined1)\n",
        "print(f'covariance (i): {covariance1}')\n",
        "p2 = np.array([[1, 2], [2, 3], [4, 5]])\n",
        "q2 = np.array([[4, 5, 1], [6, 7, 2]])\n",
        "multi2=np.dot(p2,q2)\n",
        "print(f'multiplication (ii): {multi2}')\n",
        "combined2=np.vstack((p2.flatten(),q2.flatten()))\n",
        "covariance2=np.cov(combined2)\n",
        "print(f'covariance (ii): {covariance2}')"
      ],
      "metadata": {
        "colab": {
          "base_uri": "https://localhost:8080/"
        },
        "id": "OdzkSeKYmR2d",
        "outputId": "da8195ae-1cd4-4301-b9ab-30e1e58960d9"
      },
      "execution_count": 7,
      "outputs": [
        {
          "output_type": "stream",
          "name": "stdout",
          "text": [
            "multiplication (i): [[16 19]\n",
            " [26 31]]\n",
            "covariance (i): [[0.66666667 1.        ]\n",
            " [1.         1.66666667]]\n",
            "multiplication (ii): [[16 19  5]\n",
            " [26 31  8]\n",
            " [46 55 14]]\n",
            "covariance (ii): [[2.16666667 0.23333333]\n",
            " [0.23333333 5.36666667]]\n"
          ]
        }
      ]
    },
    {
      "cell_type": "code",
      "source": [
        "x = np.array([[2, 3, 4], [3, 2, 9]])\n",
        "y = np.array([[1, 5, 0], [5, 10, 3]])\n",
        "inner_product=np.inner(x,y)\n",
        "print(f'inner product is: {inner_product}')\n",
        "outer_product=np.outer(x,y)\n",
        "print(f'outer product is: {outer_product}')\n",
        "flat_x=x.flatten()\n",
        "flat_y=y.flatten()\n",
        "cartesian_product = np.array(np.meshgrid(flat_x, flat_y)).T.reshape(-1, 2)\n",
        "print(f'cartesian product is: {cartesian_product}')"
      ],
      "metadata": {
        "colab": {
          "base_uri": "https://localhost:8080/"
        },
        "id": "Wd0Khv3rpbko",
        "outputId": "35b8a3d8-7c35-4654-8a0b-e6520391193c"
      },
      "execution_count": 11,
      "outputs": [
        {
          "output_type": "stream",
          "name": "stdout",
          "text": [
            "inner product is: [[17 52]\n",
            " [13 62]]\n",
            "outer product is: [[ 2 10  0 10 20  6]\n",
            " [ 3 15  0 15 30  9]\n",
            " [ 4 20  0 20 40 12]\n",
            " [ 3 15  0 15 30  9]\n",
            " [ 2 10  0 10 20  6]\n",
            " [ 9 45  0 45 90 27]]\n",
            "cartesian product is: [[ 2  1]\n",
            " [ 2  5]\n",
            " [ 2  0]\n",
            " [ 2  5]\n",
            " [ 2 10]\n",
            " [ 2  3]\n",
            " [ 3  1]\n",
            " [ 3  5]\n",
            " [ 3  0]\n",
            " [ 3  5]\n",
            " [ 3 10]\n",
            " [ 3  3]\n",
            " [ 4  1]\n",
            " [ 4  5]\n",
            " [ 4  0]\n",
            " [ 4  5]\n",
            " [ 4 10]\n",
            " [ 4  3]\n",
            " [ 3  1]\n",
            " [ 3  5]\n",
            " [ 3  0]\n",
            " [ 3  5]\n",
            " [ 3 10]\n",
            " [ 3  3]\n",
            " [ 2  1]\n",
            " [ 2  5]\n",
            " [ 2  0]\n",
            " [ 2  5]\n",
            " [ 2 10]\n",
            " [ 2  3]\n",
            " [ 9  1]\n",
            " [ 9  5]\n",
            " [ 9  0]\n",
            " [ 9  5]\n",
            " [ 9 10]\n",
            " [ 9  3]]\n"
          ]
        }
      ]
    },
    {
      "cell_type": "code",
      "source": [
        "array = np.array([[1, -2, 3],[-4, 5, -6]])\n",
        "array_abs=np.abs(array)\n",
        "print(f'array with absolute values: {array_abs}')\n",
        "flat_array=array.flatten()\n",
        "per_25_flat=np.percentile(flat_array,25)\n",
        "per_50_flat=np.percentile(flat_array,50)\n",
        "per_75_flat=np.percentile(flat_array,75)\n",
        "mean_flat=np.mean(flat_array)\n",
        "median_flat=np.median(flat_array)\n",
        "std_dev_flat=np.std(flat_array)\n",
        "print(f'25th %ile for flattened array: {per_25_flat}')\n",
        "print(f'50th %ile for flattened array: {per_50_flat}')\n",
        "print(f'75th %ile for flattened array: {per_75_flat}')\n",
        "print(f'mean for flattened array: {mean_flat}')\n",
        "print(f'median for flattened array: {median_flat}')\n",
        "print(f'standard deviation for flattened array: {std_dev_flat}')\n",
        "for i in range(array.shape[1]):\n",
        "  col=array[:,i]\n",
        "  print(f'column {i+1}')\n",
        "  print(f'25th %ile: {np.percentile(col,25)}')\n",
        "  print(f'50th %ile: {np.percentile(col,50)}')\n",
        "  print(f'75th %ile: {np.percentile(col,75)}')\n",
        "  print(f'mean: {np.mean(col)}')\n",
        "  print(f'median: {np.median(col)}')\n",
        "  print(f'standard deviation: {np.std(col)}')\n",
        "for i in range(array.shape[0]):\n",
        "  row=array[i,:]\n",
        "  print(f'row {i+1}')\n",
        "  print(f'25th %ile: {np.percentile(row,25)}')\n",
        "  print(f'50th %ile: {np.percentile(row,50)}')\n",
        "  print(f'75th %ile: {np.percentile(row,75)}')\n",
        "  print(f'mean: {np.mean(row)}')\n",
        "  print(f'median: {np.median(row)}')\n",
        "  print(f'standard deviation: {np.std(row)}')"
      ],
      "metadata": {
        "colab": {
          "base_uri": "https://localhost:8080/"
        },
        "id": "cc7cmj-Aq6ck",
        "outputId": "ed59f81f-61dc-4527-f8c8-36eb6e73aca2"
      },
      "execution_count": 15,
      "outputs": [
        {
          "output_type": "stream",
          "name": "stdout",
          "text": [
            "array with absolute values: [[1 2 3]\n",
            " [4 5 6]]\n",
            "25th %ile for flattened array: -3.5\n",
            "50th %ile for flattened array: -0.5\n",
            "75th %ile for flattened array: 2.5\n",
            "mean for flattened array: -0.5\n",
            "median for flattened array: -0.5\n",
            "standard deviation for flattened array: 3.8622100754188224\n",
            "column 1\n",
            "25th %ile: -2.75\n",
            "50th %ile: -1.5\n",
            "75th %ile: -0.25\n",
            "mean: -1.5\n",
            "median: -1.5\n",
            "standard deviation: 2.5\n",
            "column 2\n",
            "25th %ile: -0.25\n",
            "50th %ile: 1.5\n",
            "75th %ile: 3.25\n",
            "mean: 1.5\n",
            "median: 1.5\n",
            "standard deviation: 3.5\n",
            "column 3\n",
            "25th %ile: -3.75\n",
            "50th %ile: -1.5\n",
            "75th %ile: 0.75\n",
            "mean: -1.5\n",
            "median: -1.5\n",
            "standard deviation: 4.5\n",
            "row 1\n",
            "25th %ile: -0.5\n",
            "50th %ile: 1.0\n",
            "75th %ile: 2.0\n",
            "mean: 0.6666666666666666\n",
            "median: 1.0\n",
            "standard deviation: 2.0548046676563256\n",
            "row 2\n",
            "25th %ile: -5.0\n",
            "50th %ile: -4.0\n",
            "75th %ile: 0.5\n",
            "mean: -1.6666666666666667\n",
            "median: -4.0\n",
            "standard deviation: 4.784233364802441\n"
          ]
        }
      ]
    },
    {
      "cell_type": "code",
      "source": [
        "a = np.array([-1.8, -1.6, -0.5, 0.5,1.6, 1.8, 3.0])\n",
        "floor_a=np.floor(a)\n",
        "ceil_a=np.ceil(a)\n",
        "trunc_a=np.trunc(a)\n",
        "round_a=np.trunc(a)\n",
        "print(f'floor: {floor_a}')\n",
        "print(f'ceil: {ceil_a}')\n",
        "print(f'truncate: {trunc_a}')\n",
        "print(f'rounded: {round_a}')"
      ],
      "metadata": {
        "colab": {
          "base_uri": "https://localhost:8080/"
        },
        "id": "MrOza4dk1Va5",
        "outputId": "335009a8-e41a-4cfa-e644-3c94b22c64d9"
      },
      "execution_count": 16,
      "outputs": [
        {
          "output_type": "stream",
          "name": "stdout",
          "text": [
            "floor: [-2. -2. -1.  0.  1.  1.  3.]\n",
            "ceil: [-1. -1. -0.  1.  2.  2.  3.]\n",
            "truncate: [-1. -1. -0.  0.  1.  1.  3.]\n",
            "rounded: [-1. -1. -0.  0.  1.  1.  3.]\n"
          ]
        }
      ]
    },
    {
      "cell_type": "code",
      "source": [
        "array = np.array([10, 52, 62, 16, 16, 54, 453])\n",
        "sorted_array=np.sort(array)\n",
        "sorted_indices=np.argsort(array)\n",
        "smallest_4=sorted_array[:4]\n",
        "largest_5=sorted_array[-5:]\n",
        "print(f'sorted array: {sorted_array}')\n",
        "print(f'sorted indices: {sorted_indices}')\n",
        "print(f'4 smallest elements: {smallest_4}')\n",
        "print(f'5 largest elements: {largest_5}')"
      ],
      "metadata": {
        "colab": {
          "base_uri": "https://localhost:8080/"
        },
        "id": "SHC4D4uI3UCC",
        "outputId": "08102960-de81-4af7-c81b-5f870d13cc33"
      },
      "execution_count": 19,
      "outputs": [
        {
          "output_type": "stream",
          "name": "stdout",
          "text": [
            "sorted array: [ 10  16  16  52  54  62 453]\n",
            "sorted indices: [0 3 4 1 5 2 6]\n",
            "4 smallest elements: [10 16 16 52]\n",
            "5 largest elements: [ 16  52  54  62 453]\n"
          ]
        }
      ]
    },
    {
      "cell_type": "code",
      "source": [
        "array = np.array([1.0, 1.2, 2.2, 2.0, 3.0, 2.0])\n",
        "int_elements=array[array==np.floor(array)]\n",
        "float_elements=array[array!=np.floor(array)]\n",
        "print(f'int elements: {int_elements}')\n",
        "print(f'float elements: {float_elements}')"
      ],
      "metadata": {
        "colab": {
          "base_uri": "https://localhost:8080/"
        },
        "id": "w8vRXv-53ePJ",
        "outputId": "0ae1b567-6831-4526-a969-fc3ac69f44e6"
      },
      "execution_count": 21,
      "outputs": [
        {
          "output_type": "stream",
          "name": "stdout",
          "text": [
            "int elements: [1. 2. 3. 2.]\n",
            "float elements: [1.2 2.2]\n"
          ]
        }
      ]
    },
    {
      "cell_type": "code",
      "source": [
        "import cv2\n",
        "import numpy as np\n",
        "def img_to_array(path):\n",
        "    img_gray = cv2.imread(path, cv2.IMREAD_GRAYSCALE)\n",
        "    if img_gray is not None and len(img_gray.shape) == 2:\n",
        "        np.savetxt(\"image_gray.txt\", img_gray, fmt='%d')\n",
        "        print(\"Grayscale image saved as 'image_gray.txt'\")\n",
        "        return\n",
        "    img_color = cv2.imread(path, cv2.IMREAD_COLOR)\n",
        "    if img_color is not None and len(img_color.shape) == 3:\n",
        "        img_rgb = cv2.cvtColor(img_color, cv2.COLOR_BGR2RGB)\n",
        "        np.savetxt(\"image_rgb.txt\", img_rgb.reshape(-1, 3), fmt='%d')\n",
        "        print(\"RGB image saved as 'image_rgb.txt'\")\n",
        "        return\n",
        "    print(\"Failed to load image.\")\n"
      ],
      "metadata": {
        "id": "4Wf2bjvc5Eqk"
      },
      "execution_count": 22,
      "outputs": []
    }
  ]
}