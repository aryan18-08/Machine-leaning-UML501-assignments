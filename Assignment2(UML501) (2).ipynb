{
  "cells": [
    {
      "cell_type": "code",
      "execution_count": 1,
      "id": "71b09131",
      "metadata": {
        "colab": {
          "base_uri": "https://localhost:8080/"
        },
        "id": "71b09131",
        "outputId": "9f0e4a98-84cc-45d3-8851-138f8fd571e8"
      },
      "outputs": [
        {
          "output_type": "stream",
          "name": "stdout",
          "text": [
            "       CustomerID Title FirstName MiddleName  LastName Suffix  \\\n",
            "0           21173   NaN      Chad          C      Yuan    NaN   \n",
            "1           13249   NaN      Ryan        NaN     Perry    NaN   \n",
            "2           29350   NaN     Julia        NaN  Thompson    NaN   \n",
            "3           13503   NaN  Theodore        NaN     Gomez    NaN   \n",
            "4           22803   NaN  Marshall          J      Shan    NaN   \n",
            "...           ...   ...       ...        ...       ...    ...   \n",
            "18356       25414   NaN     Grace          C    Bailey    NaN   \n",
            "18357       11459   NaN     Tasha        NaN      Deng    NaN   \n",
            "18358       12160   NaN    Jaclyn        NaN     Zhang    NaN   \n",
            "18359       14353   NaN      Erin          I      Reed    NaN   \n",
            "18360       16676   NaN    Amanda        NaN     Perry    NaN   \n",
            "\n",
            "                 AddressLine1 AddressLine2            City  \\\n",
            "0          7090 C. Mount Hood          NaN      Wollongong   \n",
            "1         3651 Willow Lake Rd          NaN         Shawnee   \n",
            "2      1774 Tice Valley Blvd.          NaN     West Covina   \n",
            "3             2103 Baldwin Dr          NaN       Liverpool   \n",
            "4             Am Gallberg 234          NaN           Werne   \n",
            "...                       ...          ...             ...   \n",
            "18356      6627 Camelback Ct.          NaN        Coronado   \n",
            "18357         9627 Kendall Rd          NaN  Port Macquarie   \n",
            "18358       4364 Viera Avenue          NaN       Beaverton   \n",
            "18359  3866 Mt. Everest Court          NaN       Vancouver   \n",
            "18360     7870 Orangewood Dr.          NaN       Grossmont   \n",
            "\n",
            "         StateProvinceName  ...        Education      Occupation Gender  \\\n",
            "0          New South Wales  ...        Bachelors        Clerical      M   \n",
            "1         British Columbia  ...  Partial College        Clerical      M   \n",
            "2               California  ...        Bachelors        Clerical      F   \n",
            "3                  England  ...  Partial College  Skilled Manual      M   \n",
            "4      Nordrhein-Westfalen  ...  Partial College  Skilled Manual      M   \n",
            "...                    ...  ...              ...             ...    ...   \n",
            "18356           California  ...  Graduate Degree  Skilled Manual      F   \n",
            "18357      New South Wales  ...        Bachelors  Skilled Manual      F   \n",
            "18358               Oregon  ...  Partial College  Skilled Manual      F   \n",
            "18359     British Columbia  ...      High School        Clerical      F   \n",
            "18360           California  ...  Graduate Degree    Professional      F   \n",
            "\n",
            "      MaritalStatus HomeOwnerFlag NumberCarsOwned NumberChildrenAtHome  \\\n",
            "0                 M             1               3                    0   \n",
            "1                 M             1               2                    1   \n",
            "2                 S             0               3                    0   \n",
            "3                 M             1               2                    1   \n",
            "4                 S             1               1                    0   \n",
            "...             ...           ...             ...                  ...   \n",
            "18356             M             0               1                    0   \n",
            "18357             S             0               2                    0   \n",
            "18358             S             0               2                    0   \n",
            "18359             S             0               0                    0   \n",
            "18360             M             1               2                    0   \n",
            "\n",
            "      TotalChildren  YearlyIncome  LastUpdated  \n",
            "0                 1         81916   2017-03-06  \n",
            "1                 2         81076   2017-03-06  \n",
            "2                 0         86387   2017-03-06  \n",
            "3                 2         61481   2017-03-06  \n",
            "4                 0         51804   2017-03-06  \n",
            "...             ...           ...          ...  \n",
            "18356             2         52953   2017-03-06  \n",
            "18357             0         60992   2017-03-06  \n",
            "18358             0         51859   2017-03-06  \n",
            "18359             0         87177   2017-03-06  \n",
            "18360             0        136856   2017-03-06  \n",
            "\n",
            "[18361 rows x 24 columns]\n"
          ]
        }
      ],
      "source": [
        "import pandas as pd\n",
        "df=pd.read_csv(\"/content/AWCustomers.csv\")\n",
        "print(df)"
      ]
    },
    {
      "cell_type": "code",
      "execution_count": 2,
      "id": "aef1e828",
      "metadata": {
        "colab": {
          "base_uri": "https://localhost:8080/"
        },
        "id": "aef1e828",
        "outputId": "dd344052-6c97-4b18-f4e7-6da4b5e01307"
      },
      "outputs": [
        {
          "output_type": "stream",
          "name": "stdout",
          "text": [
            "       CustomerID FirstName PostalCode   BirthDate        Education  \\\n",
            "0           21173      Chad       2500  1987-11-13        Bachelors   \n",
            "1           13249      Ryan    V9B 2C3  1972-07-21  Partial College   \n",
            "2           29350     Julia      91791  1985-11-09        Bachelors   \n",
            "3           13503  Theodore     L4 4HB  1977-10-18  Partial College   \n",
            "4           22803  Marshall      59368  1975-02-05  Partial College   \n",
            "...           ...       ...        ...         ...              ...   \n",
            "18356       25414     Grace      92118  1990-11-11  Graduate Degree   \n",
            "18357       11459     Tasha       2444  1992-10-13        Bachelors   \n",
            "18358       12160    Jaclyn      97005  1983-11-24  Partial College   \n",
            "18359       14353      Erin    V7L 4J4  1995-06-15      High School   \n",
            "18360       16676    Amanda      91941  1986-03-26  Graduate Degree   \n",
            "\n",
            "           Occupation Gender MaritalStatus  HomeOwnerFlag  NumberCarsOwned  \\\n",
            "0            Clerical      M             M              1                3   \n",
            "1            Clerical      M             M              1                2   \n",
            "2            Clerical      F             S              0                3   \n",
            "3      Skilled Manual      M             M              1                2   \n",
            "4      Skilled Manual      M             S              1                1   \n",
            "...               ...    ...           ...            ...              ...   \n",
            "18356  Skilled Manual      F             M              0                1   \n",
            "18357  Skilled Manual      F             S              0                2   \n",
            "18358  Skilled Manual      F             S              0                2   \n",
            "18359        Clerical      F             S              0                0   \n",
            "18360    Professional      F             M              1                2   \n",
            "\n",
            "       NumberChildrenAtHome  TotalChildren  YearlyIncome  \n",
            "0                         0              1         81916  \n",
            "1                         1              2         81076  \n",
            "2                         0              0         86387  \n",
            "3                         1              2         61481  \n",
            "4                         0              0         51804  \n",
            "...                     ...            ...           ...  \n",
            "18356                     0              2         52953  \n",
            "18357                     0              0         60992  \n",
            "18358                     0              0         51859  \n",
            "18359                     0              0         87177  \n",
            "18360                     0              0        136856  \n",
            "\n",
            "[18361 rows x 13 columns]\n"
          ]
        }
      ],
      "source": [
        "newdf=df.iloc[:,[0,2,11,13,14,15,16,17,18,19,20,21,22]]\n",
        "print(newdf)"
      ]
    },
    {
      "cell_type": "code",
      "execution_count": 3,
      "id": "8bf0206e",
      "metadata": {
        "id": "8bf0206e"
      },
      "outputs": [],
      "source": [
        "types = {\n",
        "    \"CustomerID\": \"Discrete and Nominal\",\n",
        "    \"FirstName\": \"Discrete and Nominal\",\n",
        "    \"PostalCode\": \"Discrete and Nominal\",\n",
        "    \"BirthDate\": \"Continuous and Interval\",\n",
        "    \"Education\": \"Discrete and Ordinal\",\n",
        "    \"Occupation\": \"Discrete and Nominal\",\n",
        "    \"Gender\": \"Discrete and Nominal\",\n",
        "    \"MaritalStatus\": \"Discrete and Nominal\",\n",
        "    \"HomeOwnerFlag\": \"Discrete and Nominal\",\n",
        "    \"NumberCarsOwned\": \"Discrete and Ratio\",\n",
        "    \"NumberChildrenAtHome\": \"Discrete and Ratio\",\n",
        "    \"TotalChildren\": \"Discrete and Ratio\",\n",
        "    \"YearlyIncome\": \"Continuous and Ratio\"\n",
        "}"
      ]
    },
    {
      "cell_type": "code",
      "execution_count": 4,
      "id": "1ca33c32",
      "metadata": {
        "colab": {
          "base_uri": "https://localhost:8080/"
        },
        "id": "1ca33c32",
        "outputId": "a9afa7fb-a187-4105-f139-a4d16ea5eb9b"
      },
      "outputs": [
        {
          "output_type": "stream",
          "name": "stdout",
          "text": [
            "       CustomerID  FirstName  PostalCode  BirthDate  Education  Occupation  \\\n",
            "0           False      False       False      False      False       False   \n",
            "1           False      False       False      False      False       False   \n",
            "2           False      False       False      False      False       False   \n",
            "3           False      False       False      False      False       False   \n",
            "4           False      False       False      False      False       False   \n",
            "...           ...        ...         ...        ...        ...         ...   \n",
            "18356       False      False       False      False      False       False   \n",
            "18357       False      False       False      False      False       False   \n",
            "18358       False      False       False      False      False       False   \n",
            "18359       False      False       False      False      False       False   \n",
            "18360       False      False       False      False      False       False   \n",
            "\n",
            "       Gender  MaritalStatus  HomeOwnerFlag  NumberCarsOwned  \\\n",
            "0       False          False          False            False   \n",
            "1       False          False          False            False   \n",
            "2       False          False          False            False   \n",
            "3       False          False          False            False   \n",
            "4       False          False          False            False   \n",
            "...       ...            ...            ...              ...   \n",
            "18356   False          False          False            False   \n",
            "18357   False          False          False            False   \n",
            "18358   False          False          False            False   \n",
            "18359   False          False          False            False   \n",
            "18360   False          False          False            False   \n",
            "\n",
            "       NumberChildrenAtHome  TotalChildren  YearlyIncome  \n",
            "0                     False          False         False  \n",
            "1                     False          False         False  \n",
            "2                     False          False         False  \n",
            "3                     False          False         False  \n",
            "4                     False          False         False  \n",
            "...                     ...            ...           ...  \n",
            "18356                 False          False         False  \n",
            "18357                 False          False         False  \n",
            "18358                 False          False         False  \n",
            "18359                 False          False         False  \n",
            "18360                 False          False         False  \n",
            "\n",
            "[18361 rows x 13 columns]\n"
          ]
        }
      ],
      "source": [
        "print(newdf.isnull())"
      ]
    },
    {
      "cell_type": "code",
      "execution_count": 5,
      "id": "09d8bf90",
      "metadata": {
        "colab": {
          "base_uri": "https://localhost:8080/"
        },
        "id": "09d8bf90",
        "outputId": "3e827997-72ef-4b83-f492-5a2fb099a08b"
      },
      "outputs": [
        {
          "output_type": "stream",
          "name": "stdout",
          "text": [
            "       CustomerID  HomeOwnerFlag  NumberCarsOwned  NumberChildrenAtHome  \\\n",
            "0        0.174472       0.798603         1.892524             -0.594371   \n",
            "1       -1.310484       0.798603         0.798389              1.163279   \n",
            "2        1.706839      -1.252187         1.892524             -0.594371   \n",
            "3       -1.262884       0.798603         0.798389              1.163279   \n",
            "4        0.479933       0.798603        -0.295746             -0.594371   \n",
            "...           ...            ...              ...                   ...   \n",
            "18356    0.969234      -1.252187        -0.295746             -0.594371   \n",
            "18357   -1.645929      -1.252187         0.798389             -0.594371   \n",
            "18358   -1.514562      -1.252187         0.798389             -0.594371   \n",
            "18359   -1.103595      -1.252187        -1.389881             -0.594371   \n",
            "18360   -0.668265       0.798603         0.798389             -0.594371   \n",
            "\n",
            "       TotalChildren  YearlyIncome  FirstName_Abby  FirstName_Abhijit  \\\n",
            "0           0.161342      0.298555           False              False   \n",
            "1           1.239753      0.271180           False              False   \n",
            "2          -0.917069      0.444261           False              False   \n",
            "3           1.239753     -0.367401           False              False   \n",
            "4          -0.917069     -0.682765           False              False   \n",
            "...              ...           ...             ...                ...   \n",
            "18356       1.239753     -0.645321           False              False   \n",
            "18357      -0.917069     -0.383337           False              False   \n",
            "18358      -0.917069     -0.680973           False              False   \n",
            "18359      -0.917069      0.470006           False              False   \n",
            "18360      -0.917069      2.088996           False              False   \n",
            "\n",
            "       FirstName_Abigail  FirstName_Adam  ...  Education_Partial College  \\\n",
            "0                  False           False  ...                      False   \n",
            "1                  False           False  ...                       True   \n",
            "2                  False           False  ...                      False   \n",
            "3                  False           False  ...                       True   \n",
            "4                  False           False  ...                       True   \n",
            "...                  ...             ...  ...                        ...   \n",
            "18356              False           False  ...                      False   \n",
            "18357              False           False  ...                      False   \n",
            "18358              False           False  ...                       True   \n",
            "18359              False           False  ...                      False   \n",
            "18360              False           False  ...                      False   \n",
            "\n",
            "       Education_Partial High School  Occupation_Management  \\\n",
            "0                              False                  False   \n",
            "1                              False                  False   \n",
            "2                              False                  False   \n",
            "3                              False                  False   \n",
            "4                              False                  False   \n",
            "...                              ...                    ...   \n",
            "18356                          False                  False   \n",
            "18357                          False                  False   \n",
            "18358                          False                  False   \n",
            "18359                          False                  False   \n",
            "18360                          False                  False   \n",
            "\n",
            "       Occupation_Manual  Occupation_Professional  Occupation_Skilled Manual  \\\n",
            "0                  False                    False                      False   \n",
            "1                  False                    False                      False   \n",
            "2                  False                    False                      False   \n",
            "3                  False                    False                       True   \n",
            "4                  False                    False                       True   \n",
            "...                  ...                      ...                        ...   \n",
            "18356              False                    False                       True   \n",
            "18357              False                    False                       True   \n",
            "18358              False                    False                       True   \n",
            "18359              False                    False                      False   \n",
            "18360              False                     True                      False   \n",
            "\n",
            "       Gender_M  MaritalStatus_S  Income_bin_Medium  Income_bin_High  \n",
            "0          True            False               True            False  \n",
            "1          True            False               True            False  \n",
            "2         False             True               True            False  \n",
            "3          True            False              False            False  \n",
            "4          True             True              False            False  \n",
            "...         ...              ...                ...              ...  \n",
            "18356     False            False              False            False  \n",
            "18357     False             True              False            False  \n",
            "18358     False             True              False            False  \n",
            "18359     False             True               True            False  \n",
            "18360     False            False              False             True  \n",
            "\n",
            "[18361 rows x 9238 columns]\n"
          ]
        }
      ],
      "source": [
        "# Handling Nulls\n",
        "newdf = newdf.copy()\n",
        "\n",
        "for col in newdf.columns:\n",
        "    if newdf[col].dtype in ['float64', 'int64']:\n",
        "        newdf[col] = newdf[col].fillna(newdf[col].median())\n",
        "    else:\n",
        "        newdf[col] = newdf[col].fillna(newdf[col].mode()[0])\n",
        "\n",
        "#Normalization\n",
        "\n",
        "from sklearn.preprocessing import MinMaxScaler\n",
        "import numpy as np\n",
        "\n",
        "scaler = MinMaxScaler()\n",
        "numeric_cols = newdf.select_dtypes(include=[np.number]).columns\n",
        "\n",
        "newdf[numeric_cols] = scaler.fit_transform(newdf[numeric_cols])\n",
        "\n",
        "\n",
        "#Discretization(Binning)\n",
        "newdf['Income_bin'] = pd.cut(newdf['YearlyIncome'], bins=3, labels=['Low','Medium','High'])\n",
        "\n",
        "\n",
        "\n",
        "#Standardization\n",
        "from sklearn.preprocessing import StandardScaler\n",
        "\n",
        "scaler_std = StandardScaler()\n",
        "newdf[numeric_cols] = scaler_std.fit_transform(newdf[numeric_cols])\n",
        "\n",
        "#Binarization\n",
        "newdf = pd.get_dummies(newdf, drop_first=True)\n",
        "print(newdf)"
      ]
    },
    {
      "cell_type": "code",
      "source": [
        "#Calculation proximity\n",
        "from sklearn.metrics.pairwise import cosine_similarity\n",
        "from scipy.spatial.distance import jaccard\n",
        "\n",
        "obj1 = newdf.iloc[0].values.reshape(1,-1)\n",
        "obj2 = newdf.iloc[1].values.reshape(1,-1)\n",
        "\n",
        "# Cosine Similarity\n",
        "cos_sim = cosine_similarity(obj1, obj2)[0][0]\n",
        "\n",
        "# Jaccard Similarity (binary columns only)\n",
        "jac_sim = 1 - jaccard(newdf.iloc[0].values, newdf.iloc[1].values)\n",
        "\n",
        "# Simple Matching Coefficient (SMC)\n",
        "smc = (newdf.iloc[0] == newdf.iloc[1]).sum() / len(newdf.columns)\n",
        "\n",
        "print(\"Cosine:\", cos_sim)\n",
        "print(\"Jaccard:\", jac_sim)\n",
        "print(\"SMC:\", smc)\n",
        "\n",
        "\n",
        "#Correlation analysis - numeric\n",
        "corr = newdf['TotalChildren'].corr(newdf['YearlyIncome'])\n",
        "print(\"Correlation:\", corr)"
      ],
      "metadata": {
        "colab": {
          "base_uri": "https://localhost:8080/"
        },
        "id": "243nha75NeMt",
        "outputId": "bb7c3ef6-f41a-4b50-8a9f-f731cfd702cc"
      },
      "id": "243nha75NeMt",
      "execution_count": 12,
      "outputs": [
        {
          "output_type": "stream",
          "name": "stdout",
          "text": [
            "Cosine: 0.32559043220453193\n",
            "Jaccard: 0.5333333333333333\n",
            "SMC: 0.9987010175362633\n",
            "Correlation: 0.022013822892024183\n"
          ]
        }
      ]
    }
  ],
  "metadata": {
    "kernelspec": {
      "display_name": "Python 3 (ipykernel)",
      "language": "python",
      "name": "python3"
    },
    "language_info": {
      "codemirror_mode": {
        "name": "ipython",
        "version": 3
      },
      "file_extension": ".py",
      "mimetype": "text/x-python",
      "name": "python",
      "nbconvert_exporter": "python",
      "pygments_lexer": "ipython3",
      "version": "3.9.12"
    },
    "colab": {
      "provenance": []
    }
  },
  "nbformat": 4,
  "nbformat_minor": 5
}